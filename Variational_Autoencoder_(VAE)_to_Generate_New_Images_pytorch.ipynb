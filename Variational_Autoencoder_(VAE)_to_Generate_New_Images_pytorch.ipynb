{
  "nbformat": 4,
  "nbformat_minor": 0,
  "metadata": {
    "colab": {
      "provenance": []
    },
    "kernelspec": {
      "name": "python3",
      "display_name": "Python 3"
    },
    "language_info": {
      "name": "python"
    }
  },
  "cells": [
    {
      "cell_type": "code",
      "execution_count": null,
      "metadata": {
        "colab": {
          "base_uri": "https://localhost:8080/"
        },
        "id": "n7cqLEfaZUkU",
        "outputId": "e72129a8-392e-4187-eab3-0c04b736e8af"
      },
      "outputs": [
        {
          "output_type": "stream",
          "name": "stdout",
          "text": [
            "torch.Size([4, 784])\n",
            "torch.Size([4, 20])\n",
            "torch.Size([4, 20])\n"
          ]
        }
      ],
      "source": [
        "import torch\n",
        "from torch import nn\n",
        "\n",
        "\n",
        "class VariationalAutoEncoder(nn.Module):\n",
        "    def __init__(self, input_dim, h_dim=200, z_dim=20):\n",
        "        super().__init__()\n",
        "        # encoder\n",
        "        self.img_2hid = nn.Linear(input_dim, h_dim)\n",
        "        self.hid_2mu = nn.Linear(h_dim, z_dim)\n",
        "        self.hid_2sigma = nn.Linear(h_dim, z_dim)\n",
        "\n",
        "        # decoder\n",
        "        self.z_2hid = nn.Linear(z_dim, h_dim)\n",
        "        self.hid_2img = nn.Linear(h_dim, input_dim)\n",
        "\n",
        "        self.relu = nn.ReLU()\n",
        "\n",
        "    def encode(self, x):\n",
        "        h = self.relu(self.img_2hid(x))\n",
        "        mu, sigma = self.hid_2mu(h), self.hid_2sigma(h)\n",
        "        return mu, sigma\n",
        "\n",
        "    def decode(self, z):\n",
        "        h = self.relu(self.z_2hid(z))\n",
        "        return torch.sigmoid(self.hid_2img(h))\n",
        "\n",
        "    def forward(self, x):\n",
        "        mu, sigma = self.encode(x)\n",
        "        epsilon = torch.randn_like(sigma)\n",
        "        z_new = mu + sigma*epsilon\n",
        "        x_reconstructed = self.decode(z_new)\n",
        "        return x_reconstructed, mu, sigma\n",
        "\n",
        "\n",
        "if __name__ == \"__main__\":\n",
        "    x = torch.randn(4, 28*28)\n",
        "    vae = VariationalAutoEncoder(input_dim=784)\n",
        "    x_reconstructed, mu, sigma = vae(x)\n",
        "    print(x_reconstructed.shape)\n",
        "    print(mu.shape)\n",
        "    print(sigma.shape)\n"
      ]
    },
    {
      "cell_type": "code",
      "source": [
        "import torch\n",
        "import torchvision.datasets as datasets  # Standard datasets\n",
        "from tqdm import tqdm\n",
        "from torch import nn, optim\n",
        "# from model import VariationalAutoEncoder\n",
        "from torchvision import transforms\n",
        "from torchvision.utils import save_image\n",
        "from torch.utils.data import DataLoader\n",
        "\n",
        "# Configuration\n",
        "DEVICE = torch.device(\"cuda\" if torch.cuda.is_available() else \"cpu\")\n",
        "INPUT_DIM = 784\n",
        "H_DIM = 200\n",
        "Z_DIM = 20\n",
        "NUM_EPOCHS = 10\n",
        "BATCH_SIZE = 32\n",
        "LR_RATE = 3e-4  # Karpathy constant\n",
        "\n",
        "# Dataset Loading\n",
        "dataset = datasets.MNIST(root=\"dataset/\", train=True, transform=transforms.ToTensor(), download=True)\n",
        "train_loader = DataLoader(dataset=dataset, batch_size=BATCH_SIZE, shuffle=True)\n",
        "model = VariationalAutoEncoder(INPUT_DIM, H_DIM, Z_DIM).to(DEVICE)\n",
        "optimizer = optim.Adam(model.parameters(), lr=LR_RATE)\n",
        "loss_fn = nn.BCELoss(reduction=\"sum\")\n",
        "\n",
        "\n",
        "def inference(digit, num_examples=1):\n",
        "    \"\"\"\n",
        "    Generates (num_examples) of a particular digit.\n",
        "    Specifically we extract an example of each digit,\n",
        "    then after we have the mu, sigma representation for\n",
        "    each digit we can sample from that.\n",
        "    After we sample we can run the decoder part of the VAE\n",
        "    and generate examples.\n",
        "    \"\"\"\n",
        "    images = []\n",
        "    idx = 0\n",
        "    for x, y in dataset:\n",
        "        if y == idx:\n",
        "            images.append(x)\n",
        "            idx += 1\n",
        "        if idx == 10:\n",
        "            break\n",
        "\n",
        "    encodings_digit = []\n",
        "    for d in range(10):\n",
        "        with torch.no_grad():\n",
        "            mu, sigma = model.encode(images[d].view(1, 784))\n",
        "        encodings_digit.append((mu, sigma))\n",
        "\n",
        "    mu, sigma = encodings_digit[digit]\n",
        "    for example in range(num_examples):\n",
        "        epsilon = torch.randn_like(sigma)\n",
        "        z = mu + sigma * epsilon\n",
        "        out = model.decode(z)\n",
        "        out = out.view(-1, 1, 28, 28)\n",
        "        save_image(out, f\"dataset/generated_{digit}_ex{example}.png\")\n",
        "\n",
        "for idx in range(10):\n",
        "    inference(idx, num_examples=5)\n"
      ],
      "metadata": {
        "id": "fiiiO-DfZZse"
      },
      "execution_count": null,
      "outputs": []
    },
    {
      "cell_type": "code",
      "source": [],
      "metadata": {
        "id": "rUsbnVtLZ5TR"
      },
      "execution_count": null,
      "outputs": []
    }
  ]
}