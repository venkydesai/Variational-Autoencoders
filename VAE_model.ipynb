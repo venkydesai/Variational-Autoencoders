{
  "nbformat": 4,
  "nbformat_minor": 0,
  "metadata": {
    "colab": {
      "provenance": []
    },
    "kernelspec": {
      "name": "python3",
      "display_name": "Python 3"
    },
    "language_info": {
      "name": "python"
    }
  },
  "cells": [
    {
      "cell_type": "code",
      "execution_count": 1,
      "metadata": {
        "colab": {
          "base_uri": "https://localhost:8080/"
        },
        "id": "Bb83T9u5KZfz",
        "outputId": "1f8fc515-0d91-4e45-9255-ccc8fd5f0307"
      },
      "outputs": [
        {
          "output_type": "stream",
          "name": "stdout",
          "text": [
            "torch.Size([4, 784])\n",
            "torch.Size([4, 20])\n",
            "torch.Size([4, 20])\n"
          ]
        }
      ],
      "source": [
        "import torch\n",
        "from torch import nn\n",
        "\n",
        "\n",
        "class VariationalAutoEncoder(nn.Module):\n",
        "    def __init__(self, input_dim, h_dim=200, z_dim=20):\n",
        "        super().__init__()\n",
        "        # encoder\n",
        "        self.img_2hid = nn.Linear(input_dim, h_dim)\n",
        "        self.hid_2mu = nn.Linear(h_dim, z_dim)\n",
        "        self.hid_2sigma = nn.Linear(h_dim, z_dim)\n",
        "\n",
        "        # decoder\n",
        "        self.z_2hid = nn.Linear(z_dim, h_dim)\n",
        "        self.hid_2img = nn.Linear(h_dim, input_dim)\n",
        "\n",
        "        self.relu = nn.ReLU()\n",
        "\n",
        "    def encode(self, x):\n",
        "        h = self.relu(self.img_2hid(x))\n",
        "        mu, sigma = self.hid_2mu(h), self.hid_2sigma(h)\n",
        "        return mu, sigma\n",
        "\n",
        "    def decode(self, z):\n",
        "        h = self.relu(self.z_2hid(z))\n",
        "        return torch.sigmoid(self.hid_2img(h))\n",
        "\n",
        "    def forward(self, x):\n",
        "        mu, sigma = self.encode(x)\n",
        "        epsilon = torch.randn_like(sigma)\n",
        "        z_new = mu + sigma*epsilon\n",
        "        x_reconstructed = self.decode(z_new)\n",
        "        return x_reconstructed, mu, sigma\n",
        "\n",
        "\n",
        "if __name__ == \"__main__\":\n",
        "    x = torch.randn(4, 28*28)\n",
        "    vae = VariationalAutoEncoder(input_dim=784)\n",
        "    x_reconstructed, mu, sigma = vae(x)\n",
        "    print(x_reconstructed.shape)\n",
        "    print(mu.shape)\n",
        "    print(sigma.shape)"
      ]
    }
  ]
}